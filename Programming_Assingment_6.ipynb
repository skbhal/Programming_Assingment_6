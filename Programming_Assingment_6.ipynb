{
 "cells": [
  {
   "cell_type": "markdown",
   "id": "a05b246a",
   "metadata": {},
   "source": [
    "## Write a python progrma to Display the fibonacci sequance using Recursion."
   ]
  },
  {
   "cell_type": "code",
   "execution_count": 3,
   "id": "e4aa4e87",
   "metadata": {},
   "outputs": [
    {
     "name": "stdout",
     "output_type": "stream",
     "text": [
      "How many numbers?7\n",
      "fibonacci swquance\n",
      "0\n",
      "1\n",
      "1\n",
      "2\n",
      "3\n",
      "5\n",
      "8\n"
     ]
    }
   ],
   "source": [
    "def fibo(n):\n",
    "    if n <=1:\n",
    "        return n\n",
    "    else:\n",
    "        return (fibo(n-1)+fibo(n-2))\n",
    "n = int(input(\"How many numbers?\" ))\n",
    "if n<=0:\n",
    "    print(\"Enter a positive number \")\n",
    "else:\n",
    "    print(\"fibonacci swquance\")\n",
    "    for i in range(n):\n",
    "        print(fibo(i))\n"
   ]
  },
  {
   "cell_type": "markdown",
   "id": "b89b7d82",
   "metadata": {},
   "source": [
    "## Ques2 -  Write a python program to find the factorial of the number USING RECURSION."
   ]
  },
  {
   "cell_type": "code",
   "execution_count": 10,
   "id": "4b15b6a2",
   "metadata": {},
   "outputs": [
    {
     "name": "stdout",
     "output_type": "stream",
     "text": [
      "Enter the number: 4\n",
      "The factorial of  4 is 24\n"
     ]
    }
   ],
   "source": [
    "def recur_factorial(n):\n",
    "    if n == 1:\n",
    "        return n\n",
    "    else:\n",
    "        return n*recur_factorial(n-1)\n",
    "num = int(input(\"Enter the number: \"))\n",
    "if num < 0:\n",
    "    print(\"sorry, factorial does not exit negative number\")\n",
    "elif num == 0:\n",
    "    print(\"Factorial is 0 to 1\")\n",
    "else:\n",
    "    print(\"The factorial of \", num , \"is\",recur_factorial(num))"
   ]
  },
  {
   "cell_type": "markdown",
   "id": "214707ed",
   "metadata": {},
   "source": [
    " ## Ques3 - Write a python program to calculate the mody mass index"
   ]
  },
  {
   "cell_type": "code",
   "execution_count": 17,
   "id": "e2d6e42d",
   "metadata": {},
   "outputs": [
    {
     "name": "stdout",
     "output_type": "stream",
     "text": [
      "Enter your hight in meter : 173\n",
      "Enter your weight in kg: 76\n",
      "Your BMI is  0.0025393431120318086\n"
     ]
    }
   ],
   "source": [
    "Height =  float(input(\"Enter your hight in meter : \"))\n",
    "Weight =  float(input(\"Enter your weight in kg: \"))\n",
    "print(\"Your BMI is \",(Weight/(Height*Height)))"
   ]
  },
  {
   "cell_type": "markdown",
   "id": "61291a14",
   "metadata": {},
   "source": [
    "## Ques - 4 Write a python program to caculate the natural logrothim of any number."
   ]
  },
  {
   "cell_type": "code",
   "execution_count": 19,
   "id": "c461e2e7",
   "metadata": {},
   "outputs": [],
   "source": [
    "import math"
   ]
  },
  {
   "cell_type": "code",
   "execution_count": 25,
   "id": "ecc05753",
   "metadata": {},
   "outputs": [
    {
     "name": "stdout",
     "output_type": "stream",
     "text": [
      "Enter the any number: 3\n",
      "1.0986122886681098\n"
     ]
    }
   ],
   "source": [
    "Number = int(input(\"Enter the any number: \"))\n",
    "print(math.log(Number) )"
   ]
  },
  {
   "cell_type": "markdown",
   "id": "c9638a9f",
   "metadata": {},
   "source": [
    "## Ques-5 Write a python program for cube sum of  first n natural number?"
   ]
  },
  {
   "cell_type": "code",
   "execution_count": 34,
   "id": "c5207439",
   "metadata": {},
   "outputs": [
    {
     "name": "stdout",
     "output_type": "stream",
     "text": [
      "Enter the value of N: 10\n",
      "Sum of cubes =  3025\n"
     ]
    }
   ],
   "source": [
    "N = int(input(\"Enter the value of N: \"))\n",
    "sumVal = 0\n",
    "for i in range (N+1):\n",
    "    sumVal+=(i*i*i)\n",
    "print(\"Sum of cubes = \", sumVal)"
   ]
  },
  {
   "cell_type": "code",
   "execution_count": null,
   "id": "aa5f29a4",
   "metadata": {},
   "outputs": [],
   "source": []
  },
  {
   "cell_type": "code",
   "execution_count": null,
   "id": "76e6313e",
   "metadata": {},
   "outputs": [],
   "source": []
  }
 ],
 "metadata": {
  "kernelspec": {
   "display_name": "Python 3 (ipykernel)",
   "language": "python",
   "name": "python3"
  },
  "language_info": {
   "codemirror_mode": {
    "name": "ipython",
    "version": 3
   },
   "file_extension": ".py",
   "mimetype": "text/x-python",
   "name": "python",
   "nbconvert_exporter": "python",
   "pygments_lexer": "ipython3",
   "version": "3.9.7"
  }
 },
 "nbformat": 4,
 "nbformat_minor": 5
}
